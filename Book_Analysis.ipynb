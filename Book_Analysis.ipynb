{
 "cells": [
  {
   "cell_type": "markdown",
   "id": "f34d6228-f3a7-476f-b154-f5c66cc6134f",
   "metadata": {},
   "source": [
    "# Load the book"
   ]
  },
  {
   "cell_type": "code",
   "execution_count": 4,
   "id": "950a12f2-556e-43f8-ab83-c981884f3bc7",
   "metadata": {},
   "outputs": [],
   "source": [
    "with open(\"miracle_in_the_andes.txt\", \"r\",encoding='utf-8') as file:\n",
    "    book = file.read()"
   ]
  },
  {
   "cell_type": "markdown",
   "id": "33cdd571-6368-4f62-acd1-b9763b488931",
   "metadata": {},
   "source": [
    "# How many chapters?"
   ]
  },
  {
   "cell_type": "markdown",
   "id": "422f200f-78d9-4036-a236-b104db2bf0ef",
   "metadata": {},
   "source": [
    "### With string methods"
   ]
  },
  {
   "cell_type": "code",
   "execution_count": 5,
   "id": "1dd9e0ac-05e4-446e-88a0-d03de72b7908",
   "metadata": {},
   "outputs": [
    {
     "data": {
      "text/plain": [
       "11"
      ]
     },
     "execution_count": 5,
     "metadata": {},
     "output_type": "execute_result"
    }
   ],
   "source": [
    "book.count(\"Chapter\")"
   ]
  },
  {
   "cell_type": "markdown",
   "id": "b514d0fa-33cd-4a9d-a651-4ebce80416c4",
   "metadata": {},
   "source": [
    "# With regex"
   ]
  },
  {
   "cell_type": "code",
   "execution_count": 2,
   "id": "745124a0-5aef-4223-a792-970d38ae166c",
   "metadata": {},
   "outputs": [],
   "source": [
    "import re"
   ]
  },
  {
   "cell_type": "code",
   "execution_count": 6,
   "id": "14d3951f-96f1-47e1-a372-7c25873bf18e",
   "metadata": {},
   "outputs": [
    {
     "data": {
      "text/plain": [
       "10"
      ]
     },
     "execution_count": 6,
     "metadata": {},
     "output_type": "execute_result"
    }
   ],
   "source": [
    "pattern = re.compile(\"Chapter [0-9]+\")\n",
    "findings = re.findall(pattern, book)\n",
    "len(findings)"
   ]
  },
  {
   "cell_type": "markdown",
   "id": "e49fc156-5bd7-4e7c-9be3-ba011973bf0c",
   "metadata": {},
   "source": [
    "# Where are the sentences where \"love\" was used?"
   ]
  },
  {
   "cell_type": "code",
   "execution_count": null,
   "id": "1c79641f-f6ae-4104-a390-830b180a6751",
   "metadata": {},
   "outputs": [],
   "source": [
    "pattern = re.compile(\"[A-Z]{1}[^.]*[^a-zA-Z]+love[^a-zA-Z]+[^.]*.\")\n",
    "findings = re.findall(pattern, book)\n",
    "findings\n",
    "\n",
    "\n",
    "                "
   ]
  },
  {
   "cell_type": "markdown",
   "id": "c3902f35-dea5-4ae7-97e0-e020338fb3a3",
   "metadata": {},
   "source": [
    "# What are the most used words?\n"
   ]
  },
  {
   "cell_type": "code",
   "execution_count": 11,
   "id": "3476edf8-e3a7-4b69-9aa9-7d6c11e1e5f9",
   "metadata": {},
   "outputs": [
    {
     "data": {
      "text/plain": [
       "['chapter', 'before', 'it', 'was', 'friday']"
      ]
     },
     "execution_count": 11,
     "metadata": {},
     "output_type": "execute_result"
    }
   ],
   "source": [
    "pattern = re.compile(\"[a-zA-Z]+\")\n",
    "findings = re.findall(pattern,book.lower())\n",
    "findings[:5]"
   ]
  },
  {
   "cell_type": "code",
   "execution_count": 13,
   "id": "ca435f20-4749-42dd-a4a3-ae53453e16b2",
   "metadata": {},
   "outputs": [],
   "source": [
    "d = {}\n",
    "for word in findings:\n",
    "    if word in d.keys():\n",
    "        d[word] = d[word] + 1\n",
    "    else:\n",
    "        d[word] = 1"
   ]
  },
  {
   "cell_type": "code",
   "execution_count": null,
   "id": "ca61fac2-1e0b-4e38-9444-b4d782880ab1",
   "metadata": {},
   "outputs": [],
   "source": [
    "d_list = [(value, key) for (key,value) in d.items()]\n",
    "sorted(d_list, reverse=True)"
   ]
  },
  {
   "cell_type": "markdown",
   "id": "779143b4-2d06-4d55-bc89-dfeecb835d82",
   "metadata": {},
   "source": [
    "# Extract paragraphs where \"love\" was used "
   ]
  },
  {
   "cell_type": "code",
   "execution_count": null,
   "id": "bdf456fd-7f6d-4366-ade4-a1b99d89bcda",
   "metadata": {},
   "outputs": [],
   "source": [
    "pattern = re.compile(\"[A-Z]{1}[^/n]*[^a-zA-Z]+love[^a-zA-Z]+[^/n]*.\")\n",
    "findings = re.findall(pattern, book)\n",
    "findings\n",
    "\n",
    "\n",
    "                "
   ]
  },
  {
   "cell_type": "markdown",
   "id": "ca283517-1341-4160-a9d8-b46512918bb2",
   "metadata": {},
   "source": [
    "# Extract the chapter titles"
   ]
  },
  {
   "cell_type": "code",
   "execution_count": 49,
   "id": "4630620d-1668-4cfd-8df1-2d31585fcf3c",
   "metadata": {},
   "outputs": [
    {
     "data": {
      "text/plain": [
       "['Before',\n",
       " 'Everything Precious',\n",
       " 'A Promise',\n",
       " 'Breathe Once More',\n",
       " 'Abandoned',\n",
       " 'Tomb',\n",
       " 'East',\n",
       " 'The Opposite of Death',\n",
       " 'I See a Man',\n",
       " 'After']"
      ]
     },
     "execution_count": 49,
     "metadata": {},
     "output_type": "execute_result"
    }
   ],
   "source": [
    "pattern = re.compile(\"Chapter [0-9]+[\\n]{2}[A-Za-z ]+\")\n",
    "findings = re.findall(pattern, book)\n",
    "findings\n",
    "chapter= []\n",
    "i=1\n",
    "for chapters in findings:\n",
    "    new_chap = chapters.replace(f\"Chapter {i}\\n\\n\", \"\")\n",
    "    chapter.append(new_chap)\n",
    "    i = i +1\n",
    "\n",
    "chapter\n",
    "\n",
    "                     "
   ]
  },
  {
   "cell_type": "code",
   "execution_count": 54,
   "id": "6f1c5ae4-d06a-4564-92b8-8e2e2c98ca86",
   "metadata": {},
   "outputs": [
    {
     "data": {
      "text/plain": [
       "115"
      ]
     },
     "execution_count": 54,
     "metadata": {},
     "output_type": "execute_result"
    }
   ],
   "source": [
    "def find_word(word):\n",
    "    findings = re.findall(word, book.lower())\n",
    "    return len(findings)\n",
    "\n",
    "\n",
    "find_word(\"love\")"
   ]
  }
 ],
 "metadata": {
  "kernelspec": {
   "display_name": "Python 3 (ipykernel)",
   "language": "python",
   "name": "python3"
  },
  "language_info": {
   "codemirror_mode": {
    "name": "ipython",
    "version": 3
   },
   "file_extension": ".py",
   "mimetype": "text/x-python",
   "name": "python",
   "nbconvert_exporter": "python",
   "pygments_lexer": "ipython3",
   "version": "3.10.8"
  }
 },
 "nbformat": 4,
 "nbformat_minor": 5
}
